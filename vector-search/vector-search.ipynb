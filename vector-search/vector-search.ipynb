{
 "cells": [
  {
   "cell_type": "code",
   "execution_count": 3,
   "metadata": {},
   "outputs": [
    {
     "name": "stdout",
     "output_type": "stream",
     "text": [
      "{'name': 'bc1ce9c2c23c', 'cluster_name': 'docker-cluster', 'cluster_uuid': '4yqb7bh8TTCqgX-ZxotjyQ', 'version': {'number': '8.5.3', 'build_flavor': 'default', 'build_type': 'docker', 'build_hash': '4ed5ee9afac63de92ec98f404ccbed7d3ba9584e', 'build_date': '2022-12-05T18:22:22.226119656Z', 'build_snapshot': False, 'lucene_version': '9.4.2', 'minimum_wire_compatibility_version': '7.17.0', 'minimum_index_compatibility_version': '7.0.0'}, 'tagline': 'You Know, for Search'}\n"
     ]
    }
   ],
   "source": [
    "from elasticsearch import Elasticsearch\n",
    "\n",
    "\n",
    "# Create the client instance\n",
    "client = Elasticsearch(\n",
    "    hosts=[\"http://localhost:9200\"]\n",
    ")\n",
    "\n",
    "print(client.info())\n"
   ]
  },
  {
   "cell_type": "code",
   "execution_count": 12,
   "metadata": {},
   "outputs": [
    {
     "ename": "ModuleNotFoundError",
     "evalue": "No module named 'sentence_transformers'",
     "output_type": "error",
     "traceback": [
      "\u001b[0;31m---------------------------------------------------------------------------\u001b[0m",
      "\u001b[0;31mModuleNotFoundError\u001b[0m                       Traceback (most recent call last)",
      "\u001b[0;32m<ipython-input-12-b1f58343a51d>\u001b[0m in \u001b[0;36m<module>\u001b[0;34m\u001b[0m\n\u001b[0;32m----> 1\u001b[0;31m \u001b[0;32mfrom\u001b[0m \u001b[0msentence_transformers\u001b[0m \u001b[0;32mimport\u001b[0m \u001b[0mSentenceTransformer\u001b[0m\u001b[0;34m\u001b[0m\u001b[0;34m\u001b[0m\u001b[0m\n\u001b[0m\u001b[1;32m      2\u001b[0m \u001b[0;34m\u001b[0m\u001b[0m\n\u001b[1;32m      3\u001b[0m \u001b[0mmodel\u001b[0m \u001b[0;34m=\u001b[0m \u001b[0mSentenceTransformer\u001b[0m\u001b[0;34m(\u001b[0m\u001b[0;34m\"all-MiniLM-L6-v2\"\u001b[0m\u001b[0;34m)\u001b[0m\u001b[0;34m\u001b[0m\u001b[0;34m\u001b[0m\u001b[0m\n",
      "\u001b[0;31mModuleNotFoundError\u001b[0m: No module named 'sentence_transformers'"
     ]
    }
   ],
   "source": [
    "from sentence_transformers import SentenceTransformer\n",
    "\n",
    "model = SentenceTransformer(\"all-MiniLM-L6-v2\")"
   ]
  },
  {
   "cell_type": "code",
   "execution_count": 9,
   "metadata": {},
   "outputs": [
    {
     "data": {
      "text/plain": [
       "{'acknowledged': True}"
      ]
     },
     "execution_count": 9,
     "metadata": {},
     "output_type": "execute_result"
    }
   ],
   "source": [
    "client.indices.delete(index=\"book_index\", ignore_unavailable=True)"
   ]
  },
  {
   "cell_type": "code",
   "execution_count": 10,
   "metadata": {},
   "outputs": [
    {
     "data": {
      "text/plain": [
       "{'acknowledged': True, 'shards_acknowledged': True, 'index': 'book_index'}"
      ]
     },
     "execution_count": 10,
     "metadata": {},
     "output_type": "execute_result"
    }
   ],
   "source": [
    "# Define the mapping\n",
    "mappings = {\n",
    "    \"mappings\":{\n",
    "        \"properties\": {\n",
    "            \"title_vector\": {\n",
    "                \"type\": \"dense_vector\",\n",
    "                \"dims\": 384,\n",
    "                \"index\": \"true\",\n",
    "                \"similarity\": \"cosine\",\n",
    "            }\n",
    "        }\n",
    "    }\n",
    "}\n",
    "\n",
    "\n",
    "# Create the index\n",
    "client.indices.create(index=\"book_index\", body=mappings)"
   ]
  },
  {
   "cell_type": "code",
   "execution_count": 11,
   "metadata": {},
   "outputs": [
    {
     "ename": "NameError",
     "evalue": "name 'model' is not defined",
     "output_type": "error",
     "traceback": [
      "\u001b[0;31m---------------------------------------------------------------------------\u001b[0m",
      "\u001b[0;31mNameError\u001b[0m                                 Traceback (most recent call last)",
      "\u001b[0;32m<ipython-input-11-77239b662011>\u001b[0m in \u001b[0;36m<module>\u001b[0;34m\u001b[0m\n\u001b[1;32m     11\u001b[0m     \u001b[0moperations\u001b[0m\u001b[0;34m.\u001b[0m\u001b[0mappend\u001b[0m\u001b[0;34m(\u001b[0m\u001b[0;34m{\u001b[0m\u001b[0;34m\"index\"\u001b[0m\u001b[0;34m:\u001b[0m \u001b[0;34m{\u001b[0m\u001b[0;34m\"_index\"\u001b[0m\u001b[0;34m:\u001b[0m \u001b[0;34m\"book_index\"\u001b[0m\u001b[0;34m}\u001b[0m\u001b[0;34m}\u001b[0m\u001b[0;34m)\u001b[0m\u001b[0;34m\u001b[0m\u001b[0;34m\u001b[0m\u001b[0m\n\u001b[1;32m     12\u001b[0m     \u001b[0;31m# Transforming the title into an embedding using the model\u001b[0m\u001b[0;34m\u001b[0m\u001b[0;34m\u001b[0m\u001b[0;34m\u001b[0m\u001b[0m\n\u001b[0;32m---> 13\u001b[0;31m     \u001b[0mbook\u001b[0m\u001b[0;34m[\u001b[0m\u001b[0;34m\"title_vector\"\u001b[0m\u001b[0;34m]\u001b[0m \u001b[0;34m=\u001b[0m \u001b[0mmodel\u001b[0m\u001b[0;34m.\u001b[0m\u001b[0mencode\u001b[0m\u001b[0;34m(\u001b[0m\u001b[0mbook\u001b[0m\u001b[0;34m[\u001b[0m\u001b[0;34m\"title\"\u001b[0m\u001b[0;34m]\u001b[0m\u001b[0;34m)\u001b[0m\u001b[0;34m.\u001b[0m\u001b[0mtolist\u001b[0m\u001b[0;34m(\u001b[0m\u001b[0;34m)\u001b[0m\u001b[0;34m\u001b[0m\u001b[0;34m\u001b[0m\u001b[0m\n\u001b[0m\u001b[1;32m     14\u001b[0m     \u001b[0moperations\u001b[0m\u001b[0;34m.\u001b[0m\u001b[0mappend\u001b[0m\u001b[0;34m(\u001b[0m\u001b[0mbook\u001b[0m\u001b[0;34m)\u001b[0m\u001b[0;34m\u001b[0m\u001b[0;34m\u001b[0m\u001b[0m\n\u001b[1;32m     15\u001b[0m \u001b[0;31m# client.bulk(index=\"book_index\", operations=operations, refresh=True)\u001b[0m\u001b[0;34m\u001b[0m\u001b[0;34m\u001b[0m\u001b[0;34m\u001b[0m\u001b[0m\n",
      "\u001b[0;31mNameError\u001b[0m: name 'model' is not defined"
     ]
    }
   ],
   "source": [
    "# index data\n",
    "import json\n",
    "from urllib.request import urlopen\n",
    "\n",
    "url = \"https://raw.githubusercontent.com/elastic/elasticsearch-labs/main/notebooks/search/data.json\"\n",
    "response = urlopen(url)\n",
    "books = json.loads(response.read())\n",
    "\n",
    "operations = []\n",
    "for book in books:\n",
    "    operations.append({\"index\": {\"_index\": \"book_index\"}})\n",
    "    # Transforming the title into an embedding using the model\n",
    "    book[\"title_vector\"] = model.encode(book[\"title\"]).tolist()\n",
    "    operations.append(book)\n",
    "# client.bulk(index=\"book_index\", operations=operations, refresh=True)"
   ]
  },
  {
   "cell_type": "code",
   "execution_count": 13,
   "metadata": {},
   "outputs": [
    {
     "data": {
      "text/plain": [
       "[{'title': 'The Pragmatic Programmer: Your Journey to Mastery',\n",
       "  'authors': ['andrew hunt', 'david thomas'],\n",
       "  'summary': 'A guide to pragmatic programming for software engineers and developers',\n",
       "  'publish_date': '2019-10-29',\n",
       "  'num_reviews': 30,\n",
       "  'publisher': 'addison-wesley'},\n",
       " {'title': 'Python Crash Course',\n",
       "  'authors': ['eric matthes'],\n",
       "  'summary': 'A fast-paced, no-nonsense guide to programming in Python',\n",
       "  'publish_date': '2019-05-03',\n",
       "  'num_reviews': 42,\n",
       "  'publisher': 'no starch press'},\n",
       " {'title': 'Artificial Intelligence: A Modern Approach',\n",
       "  'authors': ['stuart russell', 'peter norvig'],\n",
       "  'summary': 'Comprehensive introduction to the theory and practice of artificial intelligence',\n",
       "  'publish_date': '2020-04-06',\n",
       "  'num_reviews': 39,\n",
       "  'publisher': 'pearson'},\n",
       " {'title': 'Clean Code: A Handbook of Agile Software Craftsmanship',\n",
       "  'authors': ['robert c. martin'],\n",
       "  'summary': 'A guide to writing code that is easy to read, understand and maintain',\n",
       "  'publish_date': '2008-08-11',\n",
       "  'num_reviews': 55,\n",
       "  'publisher': 'prentice hall'},\n",
       " {'title': \"You Don't Know JS: Up & Going\",\n",
       "  'authors': ['kyle simpson'],\n",
       "  'summary': 'Introduction to JavaScript and programming as a whole',\n",
       "  'publish_date': '2015-03-27',\n",
       "  'num_reviews': 36,\n",
       "  'publisher': 'oreilly'},\n",
       " {'title': 'Eloquent JavaScript',\n",
       "  'authors': ['marijn haverbeke'],\n",
       "  'summary': 'A modern introduction to programming',\n",
       "  'publish_date': '2018-12-04',\n",
       "  'num_reviews': 38,\n",
       "  'publisher': 'no starch press'},\n",
       " {'title': 'Design Patterns: Elements of Reusable Object-Oriented Software',\n",
       "  'authors': ['erich gamma',\n",
       "   'richard helm',\n",
       "   'ralph johnson',\n",
       "   'john vlissides'],\n",
       "  'summary': 'Guide to design patterns that can be used in any object-oriented language',\n",
       "  'publish_date': '1994-10-31',\n",
       "  'num_reviews': 45,\n",
       "  'publisher': 'addison-wesley'},\n",
       " {'title': 'The Clean Coder: A Code of Conduct for Professional Programmers',\n",
       "  'authors': ['robert c. martin'],\n",
       "  'summary': 'A guide to professional conduct in the field of software engineering',\n",
       "  'publish_date': '2011-05-13',\n",
       "  'num_reviews': 20,\n",
       "  'publisher': 'prentice hall'},\n",
       " {'title': 'JavaScript: The Good Parts',\n",
       "  'authors': ['douglas crockford'],\n",
       "  'summary': 'A deep dive into the parts of JavaScript that are essential to writing maintainable code',\n",
       "  'publish_date': '2008-05-15',\n",
       "  'num_reviews': 51,\n",
       "  'publisher': 'oreilly'},\n",
       " {'title': 'Introduction to the Theory of Computation',\n",
       "  'authors': ['michael sipser'],\n",
       "  'summary': 'Introduction to the theory of computation and complexity theory',\n",
       "  'publish_date': '2012-06-27',\n",
       "  'num_reviews': 33,\n",
       "  'publisher': 'cengage learning'}]"
      ]
     },
     "execution_count": 13,
     "metadata": {},
     "output_type": "execute_result"
    }
   ],
   "source": [
    "books"
   ]
  },
  {
   "cell_type": "code",
   "execution_count": null,
   "metadata": {},
   "outputs": [],
   "source": []
  }
 ],
 "metadata": {
  "kernelspec": {
   "display_name": "mat",
   "language": "python",
   "name": "python3"
  },
  "language_info": {
   "codemirror_mode": {
    "name": "ipython",
    "version": 3
   },
   "file_extension": ".py",
   "mimetype": "text/x-python",
   "name": "python",
   "nbconvert_exporter": "python",
   "pygments_lexer": "ipython3",
   "version": "3.6.9"
  }
 },
 "nbformat": 4,
 "nbformat_minor": 2
}
